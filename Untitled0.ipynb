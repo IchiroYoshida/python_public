{
  "nbformat": 4,
  "nbformat_minor": 0,
  "metadata": {
    "colab": {
      "provenance": [],
      "authorship_tag": "ABX9TyMP8X+uYLa2MRPL5P7SFeW2",
      "include_colab_link": true
    },
    "kernelspec": {
      "name": "python3",
      "display_name": "Python 3"
    },
    "language_info": {
      "name": "python"
    }
  },
  "cells": [
    {
      "cell_type": "markdown",
      "metadata": {
        "id": "view-in-github",
        "colab_type": "text"
      },
      "source": [
        "<a href=\"https://colab.research.google.com/github/IchiroYoshida/python_public/blob/master/Untitled0.ipynb\" target=\"_parent\"><img src=\"https://colab.research.google.com/assets/colab-badge.svg\" alt=\"Open In Colab\"/></a>"
      ]
    },
    {
      "cell_type": "code",
      "execution_count": 1,
      "metadata": {
        "id": "nz5w8CUHoJk_",
        "colab": {
          "base_uri": "https://localhost:8080/"
        },
        "outputId": "8f325836-b159-47be-f6b0-b9a81f6fdddc"
      },
      "outputs": [
        {
          "output_type": "stream",
          "name": "stdout",
          "text": [
            "Looking in indexes: https://pypi.org/simple, https://us-python.pkg.dev/colab-wheels/public/simple/\n",
            "Collecting skyfield\n",
            "  Downloading skyfield-1.45-py3-none-any.whl (442 kB)\n",
            "\u001b[K     |████████████████████████████████| 442 kB 6.8 MB/s \n",
            "\u001b[?25hCollecting sgp4>=2.2\n",
            "  Downloading sgp4-2.21-cp37-cp37m-manylinux_2_5_x86_64.manylinux1_x86_64.manylinux_2_17_x86_64.manylinux2014_x86_64.whl (228 kB)\n",
            "\u001b[K     |████████████████████████████████| 228 kB 62.5 MB/s \n",
            "\u001b[?25hCollecting jplephem>=2.13\n",
            "  Downloading jplephem-2.18-py3-none-any.whl (46 kB)\n",
            "\u001b[K     |████████████████████████████████| 46 kB 2.7 MB/s \n",
            "\u001b[?25hRequirement already satisfied: certifi>=2017.4.17 in /usr/local/lib/python3.7/dist-packages (from skyfield) (2022.9.24)\n",
            "Requirement already satisfied: numpy in /usr/local/lib/python3.7/dist-packages (from skyfield) (1.21.6)\n",
            "Installing collected packages: sgp4, jplephem, skyfield\n",
            "Successfully installed jplephem-2.18 sgp4-2.21 skyfield-1.45\n"
          ]
        }
      ],
      "source": [
        "!pip install skyfield\n"
      ]
    },
    {
      "cell_type": "code",
      "source": [
        "import numpy as np\n",
        "import matplotlib.pyplot as plt\n",
        "from matplotlib.colors import LinearSegmentedColormap\n",
        "from skyfield import almanac\n",
        "from skyfield.api import load, wgs84\n",
        "from skyfield.magnitudelib import planetary_magnitude\n",
        "\n",
        "MONTH_NAMES = '0 Jan Feb Mar Apr May Jun Jul Aug Sep Oct Nov Dec'.split()\n",
        "\n",
        "# Figure out the times of sunset over our range of dates.\n",
        "\n",
        "eph = load('de421.bsp')\n",
        "earth, sun, venus = eph['earth'], eph['sun'], eph['venus']\n",
        "observer = wgs84.latlon(+33.59, 130.39)\n",
        "\n",
        "ts = load.timescale()\n",
        "start, end = ts.utc(2023, 1, 1), ts.utc(2023, 12, 31)\n",
        "\n",
        "f = almanac.sunrise_sunset(eph, observer)\n",
        "t, y = almanac.find_discrete(start, end, f)\n",
        "sunsets = (y == 0)\n",
        "t = t[sunsets]\n",
        "\n",
        "# For each moment of sunset, ask Skyfield for the month number, the day\n",
        "# number, and for Venus’s altitude, azimuth, and magnitude.\n",
        "\n",
        "year, month, day, hour, minute, second = t.utc\n",
        "month = month.astype(int)\n",
        "day = day.astype(int)\n",
        "\n",
        "apparent = (earth + observer).at(t).observe(venus).apparent()\n",
        "alt, az, distance = apparent.altaz()\n",
        "x, y = az.degrees, alt.degrees\n",
        "m = planetary_magnitude(apparent)\n",
        "\n",
        "# Convert magnitude to marker size, remembering that smaller magnitude\n",
        "# numbers mean a brighter Venus (and thus a larger marker).\n",
        "\n",
        "maxmag = max(m)\n",
        "minmag = min(m)\n",
        "size = 40 - 30 * (m - minmag) / (maxmag - minmag)\n",
        "\n",
        "# Start with a smooth curve tracing Venus's motion.\n",
        "\n",
        "fig, ax = plt.subplots(figsize=[9, 3])\n",
        "ax.plot(x, y, c='#fff6', zorder=1)\n",
        "\n",
        "# Next, put a circle representing Venus on the 1st of the month and on\n",
        "# every fifth day after that.  (Except for the 30th, which would sit too\n",
        "# close to the 1st of the following month.)\n",
        "\n",
        "fives = (day % 5 == 1) & (day < 30)\n",
        "ax.scatter(x[fives], y[fives], size[fives], 'white',\n",
        "           edgecolor='black', linewidth=0.25, zorder=2)\n",
        "\n",
        "# Put day and month labels off to the sides of the curve.\n",
        "\n",
        "offset_x, offset_y = 10, 8\n",
        "\n",
        "for i in np.flatnonzero(fives):\n",
        "    if i == 0:\n",
        "        continue  # We can’t compute dx/dy with no previous point.\n",
        "\n",
        "    # Build a unit vector pointing in the direction Venus is traveling.\n",
        "\n",
        "    day_i = day[i]\n",
        "    xi = x[i]\n",
        "    yi = y[i]\n",
        "    dx = xi - x[i-1]\n",
        "    dy = yi - y[i-1]\n",
        "    length = np.sqrt(dx*dx + dy*dy)\n",
        "    dx /= length\n",
        "    dy /= length\n",
        "\n",
        "    # Offset the text at a right angle to the direction of travel.\n",
        "\n",
        "    side = 'right' if (year[i], month[i]) < (2021, 10) else 'left'\n",
        "    if side == 'left':\n",
        "        xytext = - offset_x*dy, offset_y*dx\n",
        "    else:\n",
        "        xytext = offset_x*dy, - offset_y*dx\n",
        "\n",
        "    # Label the dates 1, 11, and 21.\n",
        "\n",
        "    if day_i in (1, 11, 21):\n",
        "        ax.annotate(day_i, (xi, yi), c='white', ha='center', va='center',\n",
        "                    textcoords='offset points', xytext=xytext, size=8)\n",
        "\n",
        "    # On the 15th of each month, put the month name.\n",
        "\n",
        "    if day_i == 16:\n",
        "        name = MONTH_NAMES[month[i]]\n",
        "        ax.annotate(name, (xi, yi), c='white', ha='center', va='center',\n",
        "                    textcoords='offset points', xytext=2.2 * np.array(xytext))\n",
        "\n",
        "# Finally, some decorations.\n",
        "\n",
        "points = 'N NE E SE S SW W NW'.split()\n",
        "for i, name in enumerate(points):\n",
        "    xy = 45 * i, 1\n",
        "    ax.annotate(name, xy, c='white', ha='center', size=12, weight='bold')\n",
        "\n",
        "ax.set(\n",
        "    aspect=1.0,\n",
        "    title='Venus at sunset for Fukuoka, 2023',\n",
        "    xlabel='Azimuth (°)',\n",
        "    ylabel='Altitude (°)',\n",
        "    xlim=(195, 300),\n",
        "    ylim=(0, max(y) + 10.0),\n",
        "    xticks=np.arange(210, 300, 15),\n",
        ")\n",
        "\n",
        "sky = LinearSegmentedColormap.from_list('sky', ['black', 'blue'])\n",
        "extent = ax.get_xlim() + ax.get_ylim()\n",
        "ax.imshow([[0,0], [1,1]], cmap=sky, interpolation='bicubic', extent=extent)\n",
        "\n",
        "fig.show()\n",
        "#fig.savefig('venus_evening_chart2023Fuk.png')"
      ],
      "metadata": {
        "colab": {
          "base_uri": "https://localhost:8080/",
          "height": 344
        },
        "id": "8MF5mJ3mv8-U",
        "outputId": "82ef2634-3374-4168-a718-97d8da2ccb59"
      },
      "execution_count": 2,
      "outputs": [
        {
          "output_type": "stream",
          "name": "stderr",
          "text": [
            "[#################################] 100% de421.bsp\n"
          ]
        },
        {
          "output_type": "display_data",
          "data": {
            "text/plain": [
              "<Figure size 648x216 with 1 Axes>"
            ],
            "image/png": "[encoded data removed]"
          },
          "metadata": {
            "needs_background": "light"
          }
        }
      ]
    }
  ]
}